{
 "cells": [
  {
   "cell_type": "code",
   "execution_count": 2,
   "id": "0fa0610e",
   "metadata": {},
   "outputs": [],
   "source": [
    "import pandas as pd "
   ]
  },
  {
   "cell_type": "code",
   "execution_count": null,
   "id": "002b14b0",
   "metadata": {},
   "outputs": [
    {
     "data": {
      "text/html": [
       "<div>\n",
       "<style scoped>\n",
       "    .dataframe tbody tr th:only-of-type {\n",
       "        vertical-align: middle;\n",
       "    }\n",
       "\n",
       "    .dataframe tbody tr th {\n",
       "        vertical-align: top;\n",
       "    }\n",
       "\n",
       "    .dataframe thead th {\n",
       "        text-align: right;\n",
       "    }\n",
       "</style>\n",
       "<table border=\"1\" class=\"dataframe\">\n",
       "  <thead>\n",
       "    <tr style=\"text-align: right;\">\n",
       "      <th></th>\n",
       "      <th>Country</th>\n",
       "      <th>Year</th>\n",
       "      <th>Food Category</th>\n",
       "      <th>Total Waste (Tons)</th>\n",
       "      <th>Economic Loss (Million $)</th>\n",
       "      <th>Avg Waste per Capita (Kg)</th>\n",
       "      <th>Population (Million)</th>\n",
       "      <th>Household Waste (%)</th>\n",
       "    </tr>\n",
       "  </thead>\n",
       "  <tbody>\n",
       "    <tr>\n",
       "      <th>0</th>\n",
       "      <td>Australia</td>\n",
       "      <td>2019</td>\n",
       "      <td>Fruits &amp; Vegetables</td>\n",
       "      <td>19268.63</td>\n",
       "      <td>18686.68</td>\n",
       "      <td>72.69</td>\n",
       "      <td>87.59</td>\n",
       "      <td>53.64</td>\n",
       "    </tr>\n",
       "    <tr>\n",
       "      <th>1</th>\n",
       "      <td>Indonesia</td>\n",
       "      <td>2019</td>\n",
       "      <td>Prepared Food</td>\n",
       "      <td>3916.97</td>\n",
       "      <td>4394.48</td>\n",
       "      <td>192.52</td>\n",
       "      <td>1153.99</td>\n",
       "      <td>30.61</td>\n",
       "    </tr>\n",
       "    <tr>\n",
       "      <th>2</th>\n",
       "      <td>Germany</td>\n",
       "      <td>2022</td>\n",
       "      <td>Dairy Products</td>\n",
       "      <td>9700.16</td>\n",
       "      <td>8909.16</td>\n",
       "      <td>166.94</td>\n",
       "      <td>1006.11</td>\n",
       "      <td>48.08</td>\n",
       "    </tr>\n",
       "    <tr>\n",
       "      <th>3</th>\n",
       "      <td>France</td>\n",
       "      <td>2023</td>\n",
       "      <td>Fruits &amp; Vegetables</td>\n",
       "      <td>46299.69</td>\n",
       "      <td>40551.22</td>\n",
       "      <td>120.19</td>\n",
       "      <td>953.05</td>\n",
       "      <td>31.91</td>\n",
       "    </tr>\n",
       "    <tr>\n",
       "      <th>4</th>\n",
       "      <td>France</td>\n",
       "      <td>2023</td>\n",
       "      <td>Beverages</td>\n",
       "      <td>33096.57</td>\n",
       "      <td>36980.82</td>\n",
       "      <td>104.74</td>\n",
       "      <td>1105.47</td>\n",
       "      <td>36.06</td>\n",
       "    </tr>\n",
       "  </tbody>\n",
       "</table>\n",
       "</div>"
      ],
      "text/plain": [
       "     Country  Year        Food Category  Total Waste (Tons)  \\\n",
       "0  Australia  2019  Fruits & Vegetables            19268.63   \n",
       "1  Indonesia  2019        Prepared Food             3916.97   \n",
       "2    Germany  2022       Dairy Products             9700.16   \n",
       "3     France  2023  Fruits & Vegetables            46299.69   \n",
       "4     France  2023            Beverages            33096.57   \n",
       "\n",
       "   Economic Loss (Million $)  Avg Waste per Capita (Kg)  Population (Million)  \\\n",
       "0                   18686.68                      72.69                 87.59   \n",
       "1                    4394.48                     192.52               1153.99   \n",
       "2                    8909.16                     166.94               1006.11   \n",
       "3                   40551.22                     120.19                953.05   \n",
       "4                   36980.82                     104.74               1105.47   \n",
       "\n",
       "   Household Waste (%)  \n",
       "0                53.64  \n",
       "1                30.61  \n",
       "2                48.08  \n",
       "3                31.91  \n",
       "4                36.06  "
      ]
     },
     "execution_count": 3,
     "metadata": {},
     "output_type": "execute_result"
    }
   ],
   "source": [
    "df = pd.read_csv(\"C:/Users/Sony/Documents/global_food_wastage_dataset.csv\")\n",
    "df.head()"
   ]
  },
  {
   "cell_type": "code",
   "execution_count": 4,
   "id": "753e9296",
   "metadata": {},
   "outputs": [
    {
     "data": {
      "text/plain": [
       "(5000, 8)"
      ]
     },
     "execution_count": 4,
     "metadata": {},
     "output_type": "execute_result"
    }
   ],
   "source": [
    "df.shape"
   ]
  },
  {
   "cell_type": "code",
   "execution_count": 5,
   "id": "145e62b6",
   "metadata": {},
   "outputs": [
    {
     "data": {
      "text/plain": [
       "Country                      0.0\n",
       "Year                         0.0\n",
       "Food Category                0.0\n",
       "Total Waste (Tons)           0.0\n",
       "Economic Loss (Million $)    0.0\n",
       "Avg Waste per Capita (Kg)    0.0\n",
       "Population (Million)         0.0\n",
       "Household Waste (%)          0.0\n",
       "dtype: float64"
      ]
     },
     "execution_count": 5,
     "metadata": {},
     "output_type": "execute_result"
    }
   ],
   "source": [
    "df.isna().mean().sort_values(ascending=False)"
   ]
  },
  {
   "cell_type": "code",
   "execution_count": 6,
   "id": "0a8c6854",
   "metadata": {},
   "outputs": [
    {
     "data": {
      "text/html": [
       "<div>\n",
       "<style scoped>\n",
       "    .dataframe tbody tr th:only-of-type {\n",
       "        vertical-align: middle;\n",
       "    }\n",
       "\n",
       "    .dataframe tbody tr th {\n",
       "        vertical-align: top;\n",
       "    }\n",
       "\n",
       "    .dataframe thead th {\n",
       "        text-align: right;\n",
       "    }\n",
       "</style>\n",
       "<table border=\"1\" class=\"dataframe\">\n",
       "  <thead>\n",
       "    <tr style=\"text-align: right;\">\n",
       "      <th></th>\n",
       "      <th>Country</th>\n",
       "      <th>Year</th>\n",
       "      <th>Food Category</th>\n",
       "      <th>Total Waste (Tons)</th>\n",
       "      <th>Economic Loss (Million $)</th>\n",
       "      <th>Avg Waste per Capita (Kg)</th>\n",
       "      <th>Population (Million)</th>\n",
       "      <th>Household Waste (%)</th>\n",
       "    </tr>\n",
       "  </thead>\n",
       "  <tbody>\n",
       "    <tr>\n",
       "      <th>0</th>\n",
       "      <td>Australia</td>\n",
       "      <td>2019</td>\n",
       "      <td>Fruits &amp; Vegetables</td>\n",
       "      <td>19268.63</td>\n",
       "      <td>18686.68</td>\n",
       "      <td>72.69</td>\n",
       "      <td>87.59</td>\n",
       "      <td>53.64</td>\n",
       "    </tr>\n",
       "    <tr>\n",
       "      <th>1</th>\n",
       "      <td>Indonesia</td>\n",
       "      <td>2019</td>\n",
       "      <td>Prepared Food</td>\n",
       "      <td>3916.97</td>\n",
       "      <td>4394.48</td>\n",
       "      <td>192.52</td>\n",
       "      <td>1153.99</td>\n",
       "      <td>30.61</td>\n",
       "    </tr>\n",
       "    <tr>\n",
       "      <th>2</th>\n",
       "      <td>Germany</td>\n",
       "      <td>2022</td>\n",
       "      <td>Dairy Products</td>\n",
       "      <td>9700.16</td>\n",
       "      <td>8909.16</td>\n",
       "      <td>166.94</td>\n",
       "      <td>1006.11</td>\n",
       "      <td>48.08</td>\n",
       "    </tr>\n",
       "    <tr>\n",
       "      <th>3</th>\n",
       "      <td>France</td>\n",
       "      <td>2023</td>\n",
       "      <td>Fruits &amp; Vegetables</td>\n",
       "      <td>46299.69</td>\n",
       "      <td>40551.22</td>\n",
       "      <td>120.19</td>\n",
       "      <td>953.05</td>\n",
       "      <td>31.91</td>\n",
       "    </tr>\n",
       "    <tr>\n",
       "      <th>4</th>\n",
       "      <td>France</td>\n",
       "      <td>2023</td>\n",
       "      <td>Beverages</td>\n",
       "      <td>33096.57</td>\n",
       "      <td>36980.82</td>\n",
       "      <td>104.74</td>\n",
       "      <td>1105.47</td>\n",
       "      <td>36.06</td>\n",
       "    </tr>\n",
       "  </tbody>\n",
       "</table>\n",
       "</div>"
      ],
      "text/plain": [
       "     Country  Year        Food Category  Total Waste (Tons)  \\\n",
       "0  Australia  2019  Fruits & Vegetables            19268.63   \n",
       "1  Indonesia  2019        Prepared Food             3916.97   \n",
       "2    Germany  2022       Dairy Products             9700.16   \n",
       "3     France  2023  Fruits & Vegetables            46299.69   \n",
       "4     France  2023            Beverages            33096.57   \n",
       "\n",
       "   Economic Loss (Million $)  Avg Waste per Capita (Kg)  Population (Million)  \\\n",
       "0                   18686.68                      72.69                 87.59   \n",
       "1                    4394.48                     192.52               1153.99   \n",
       "2                    8909.16                     166.94               1006.11   \n",
       "3                   40551.22                     120.19                953.05   \n",
       "4                   36980.82                     104.74               1105.47   \n",
       "\n",
       "   Household Waste (%)  \n",
       "0                53.64  \n",
       "1                30.61  \n",
       "2                48.08  \n",
       "3                31.91  \n",
       "4                36.06  "
      ]
     },
     "execution_count": 6,
     "metadata": {},
     "output_type": "execute_result"
    }
   ],
   "source": [
    "df.head()"
   ]
  },
  {
   "cell_type": "code",
   "execution_count": null,
   "id": "45923a61",
   "metadata": {},
   "outputs": [],
   "source": []
  }
 ],
 "metadata": {
  "kernelspec": {
   "display_name": ".venv",
   "language": "python",
   "name": "python3"
  },
  "language_info": {
   "codemirror_mode": {
    "name": "ipython",
    "version": 3
   },
   "file_extension": ".py",
   "mimetype": "text/x-python",
   "name": "python",
   "nbconvert_exporter": "python",
   "pygments_lexer": "ipython3",
   "version": "3.12.7"
  }
 },
 "nbformat": 4,
 "nbformat_minor": 5
}
